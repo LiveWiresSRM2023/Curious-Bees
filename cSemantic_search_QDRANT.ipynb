{
  "nbformat": 4,
  "nbformat_minor": 0,
  "metadata": {
    "colab": {
      "provenance": []
    },
    "kernelspec": {
      "name": "python3",
      "display_name": "Python 3"
    },
    "language_info": {
      "name": "python"
    }
  },
  "cells": [
    {
      "cell_type": "code",
      "execution_count": null,
      "metadata": {
        "colab": {
          "base_uri": "https://localhost:8080/"
        },
        "id": "6IAX7d_OhGHF",
        "outputId": "b1921787-1f01-424c-80e6-ae45ae9be566"
      },
      "outputs": [
        {
          "output_type": "stream",
          "name": "stdout",
          "text": [
            "Requirement already satisfied: qdrant-client in /usr/local/lib/python3.10/dist-packages (1.8.2)\n",
            "Requirement already satisfied: grpcio>=1.41.0 in /usr/local/lib/python3.10/dist-packages (from qdrant-client) (1.62.2)\n",
            "Requirement already satisfied: grpcio-tools>=1.41.0 in /usr/local/lib/python3.10/dist-packages (from qdrant-client) (1.62.2)\n",
            "Requirement already satisfied: httpx[http2]>=0.20.0 in /usr/local/lib/python3.10/dist-packages (from qdrant-client) (0.27.0)\n",
            "Requirement already satisfied: numpy>=1.21 in /usr/local/lib/python3.10/dist-packages (from qdrant-client) (1.25.2)\n",
            "Requirement already satisfied: portalocker<3.0.0,>=2.7.0 in /usr/local/lib/python3.10/dist-packages (from qdrant-client) (2.8.2)\n",
            "Requirement already satisfied: pydantic>=1.10.8 in /usr/local/lib/python3.10/dist-packages (from qdrant-client) (2.7.0)\n",
            "Requirement already satisfied: urllib3<3,>=1.26.14 in /usr/local/lib/python3.10/dist-packages (from qdrant-client) (2.0.7)\n",
            "Requirement already satisfied: protobuf<5.0dev,>=4.21.6 in /usr/local/lib/python3.10/dist-packages (from grpcio-tools>=1.41.0->qdrant-client) (4.25.3)\n",
            "Requirement already satisfied: setuptools in /usr/local/lib/python3.10/dist-packages (from grpcio-tools>=1.41.0->qdrant-client) (67.7.2)\n",
            "Requirement already satisfied: anyio in /usr/local/lib/python3.10/dist-packages (from httpx[http2]>=0.20.0->qdrant-client) (3.7.1)\n",
            "Requirement already satisfied: certifi in /usr/local/lib/python3.10/dist-packages (from httpx[http2]>=0.20.0->qdrant-client) (2024.2.2)\n",
            "Requirement already satisfied: httpcore==1.* in /usr/local/lib/python3.10/dist-packages (from httpx[http2]>=0.20.0->qdrant-client) (1.0.5)\n",
            "Requirement already satisfied: idna in /usr/local/lib/python3.10/dist-packages (from httpx[http2]>=0.20.0->qdrant-client) (3.7)\n",
            "Requirement already satisfied: sniffio in /usr/local/lib/python3.10/dist-packages (from httpx[http2]>=0.20.0->qdrant-client) (1.3.1)\n",
            "Requirement already satisfied: h2<5,>=3 in /usr/local/lib/python3.10/dist-packages (from httpx[http2]>=0.20.0->qdrant-client) (4.1.0)\n",
            "Requirement already satisfied: h11<0.15,>=0.13 in /usr/local/lib/python3.10/dist-packages (from httpcore==1.*->httpx[http2]>=0.20.0->qdrant-client) (0.14.0)\n",
            "Requirement already satisfied: annotated-types>=0.4.0 in /usr/local/lib/python3.10/dist-packages (from pydantic>=1.10.8->qdrant-client) (0.6.0)\n",
            "Requirement already satisfied: pydantic-core==2.18.1 in /usr/local/lib/python3.10/dist-packages (from pydantic>=1.10.8->qdrant-client) (2.18.1)\n",
            "Requirement already satisfied: typing-extensions>=4.6.1 in /usr/local/lib/python3.10/dist-packages (from pydantic>=1.10.8->qdrant-client) (4.11.0)\n",
            "Requirement already satisfied: hyperframe<7,>=6.0 in /usr/local/lib/python3.10/dist-packages (from h2<5,>=3->httpx[http2]>=0.20.0->qdrant-client) (6.0.1)\n",
            "Requirement already satisfied: hpack<5,>=4.0 in /usr/local/lib/python3.10/dist-packages (from h2<5,>=3->httpx[http2]>=0.20.0->qdrant-client) (4.0.0)\n",
            "Requirement already satisfied: exceptiongroup in /usr/local/lib/python3.10/dist-packages (from anyio->httpx[http2]>=0.20.0->qdrant-client) (1.2.0)\n"
          ]
        }
      ],
      "source": [
        "!pip install qdrant-client"
      ]
    },
    {
      "cell_type": "code",
      "source": [
        "!pip install -U transformers\n"
      ],
      "metadata": {
        "colab": {
          "base_uri": "https://localhost:8080/"
        },
        "id": "97iBOYF0hL9K",
        "outputId": "702ddb93-e3b8-4744-c9ba-4a7ec98e331d"
      },
      "execution_count": null,
      "outputs": [
        {
          "output_type": "stream",
          "name": "stdout",
          "text": [
            "Requirement already satisfied: transformers in /usr/local/lib/python3.10/dist-packages (4.40.0)\n",
            "Requirement already satisfied: filelock in /usr/local/lib/python3.10/dist-packages (from transformers) (3.13.4)\n",
            "Requirement already satisfied: huggingface-hub<1.0,>=0.19.3 in /usr/local/lib/python3.10/dist-packages (from transformers) (0.20.3)\n",
            "Requirement already satisfied: numpy>=1.17 in /usr/local/lib/python3.10/dist-packages (from transformers) (1.25.2)\n",
            "Requirement already satisfied: packaging>=20.0 in /usr/local/lib/python3.10/dist-packages (from transformers) (24.0)\n",
            "Requirement already satisfied: pyyaml>=5.1 in /usr/local/lib/python3.10/dist-packages (from transformers) (6.0.1)\n",
            "Requirement already satisfied: regex!=2019.12.17 in /usr/local/lib/python3.10/dist-packages (from transformers) (2023.12.25)\n",
            "Requirement already satisfied: requests in /usr/local/lib/python3.10/dist-packages (from transformers) (2.31.0)\n",
            "Requirement already satisfied: tokenizers<0.20,>=0.19 in /usr/local/lib/python3.10/dist-packages (from transformers) (0.19.1)\n",
            "Requirement already satisfied: safetensors>=0.4.1 in /usr/local/lib/python3.10/dist-packages (from transformers) (0.4.3)\n",
            "Requirement already satisfied: tqdm>=4.27 in /usr/local/lib/python3.10/dist-packages (from transformers) (4.66.2)\n",
            "Requirement already satisfied: fsspec>=2023.5.0 in /usr/local/lib/python3.10/dist-packages (from huggingface-hub<1.0,>=0.19.3->transformers) (2023.6.0)\n",
            "Requirement already satisfied: typing-extensions>=3.7.4.3 in /usr/local/lib/python3.10/dist-packages (from huggingface-hub<1.0,>=0.19.3->transformers) (4.11.0)\n",
            "Requirement already satisfied: charset-normalizer<4,>=2 in /usr/local/lib/python3.10/dist-packages (from requests->transformers) (3.3.2)\n",
            "Requirement already satisfied: idna<4,>=2.5 in /usr/local/lib/python3.10/dist-packages (from requests->transformers) (3.7)\n",
            "Requirement already satisfied: urllib3<3,>=1.21.1 in /usr/local/lib/python3.10/dist-packages (from requests->transformers) (2.0.7)\n",
            "Requirement already satisfied: certifi>=2017.4.17 in /usr/local/lib/python3.10/dist-packages (from requests->transformers) (2024.2.2)\n"
          ]
        }
      ]
    },
    {
      "cell_type": "code",
      "source": [
        "import qdrant_client\n",
        "from qdrant_client.http import models\n",
        "import os\n",
        "import uuid"
      ],
      "metadata": {
        "id": "feOT4EtZlDHj"
      },
      "execution_count": null,
      "outputs": []
    },
    {
      "cell_type": "code",
      "source": [
        "# create your client\n",
        "\n",
        "os.environ['QDRANT_HOST'] = 'your host link on qdrant'\n",
        "os.environ['QDRANT_API_KEY'] = 'your api key'\n",
        "\n",
        "\n",
        "client = qdrant_client.QdrantClient(url=\n",
        "        os.getenv(\"QDRANT_HOST\"),\n",
        "        api_key=os.getenv(\"QDRANT_API_KEY\")\n",
        "    )"
      ],
      "metadata": {
        "id": "iwm5yDoflGlH"
      },
      "execution_count": null,
      "outputs": []
    },
    {
      "cell_type": "code",
      "source": [
        "# create collection\n",
        "\n",
        "os.environ['QDRANT_COLLECTION'] = \"testcollections\"\n",
        "\n",
        "collection_config = models.VectorParams(\n",
        "        size=384, # 768 for instructor-xl, 1536 for OpenAI\n",
        "        distance=models.Distance.COSINE\n",
        "    )\n",
        "\n",
        "client.recreate_collection(\n",
        "    collection_name=os.getenv(\"QDRANT_COLLECTION\"),\n",
        "    vectors_config=collection_config\n",
        ")"
      ],
      "metadata": {
        "colab": {
          "base_uri": "https://localhost:8080/"
        },
        "id": "BpmmUB6Dl9oS",
        "outputId": "9abce593-df91-4315-9df9-feee58163ace"
      },
      "execution_count": null,
      "outputs": [
        {
          "output_type": "execute_result",
          "data": {
            "text/plain": [
              "True"
            ]
          },
          "metadata": {},
          "execution_count": 78
        }
      ]
    },
    {
      "cell_type": "code",
      "source": [
        "!pip install torch"
      ],
      "metadata": {
        "colab": {
          "base_uri": "https://localhost:8080/"
        },
        "id": "agSsnbg8mHLW",
        "outputId": "eb169eaa-e1d4-4aea-ea9c-cf62fb31c1d8"
      },
      "execution_count": null,
      "outputs": [
        {
          "output_type": "stream",
          "name": "stdout",
          "text": [
            "Requirement already satisfied: torch in /usr/local/lib/python3.10/dist-packages (2.2.1+cu121)\n",
            "Requirement already satisfied: filelock in /usr/local/lib/python3.10/dist-packages (from torch) (3.13.4)\n",
            "Requirement already satisfied: typing-extensions>=4.8.0 in /usr/local/lib/python3.10/dist-packages (from torch) (4.11.0)\n",
            "Requirement already satisfied: sympy in /usr/local/lib/python3.10/dist-packages (from torch) (1.12)\n",
            "Requirement already satisfied: networkx in /usr/local/lib/python3.10/dist-packages (from torch) (3.3)\n",
            "Requirement already satisfied: jinja2 in /usr/local/lib/python3.10/dist-packages (from torch) (3.1.3)\n",
            "Requirement already satisfied: fsspec in /usr/local/lib/python3.10/dist-packages (from torch) (2023.6.0)\n",
            "Requirement already satisfied: nvidia-cuda-nvrtc-cu12==12.1.105 in /usr/local/lib/python3.10/dist-packages (from torch) (12.1.105)\n",
            "Requirement already satisfied: nvidia-cuda-runtime-cu12==12.1.105 in /usr/local/lib/python3.10/dist-packages (from torch) (12.1.105)\n",
            "Requirement already satisfied: nvidia-cuda-cupti-cu12==12.1.105 in /usr/local/lib/python3.10/dist-packages (from torch) (12.1.105)\n",
            "Requirement already satisfied: nvidia-cudnn-cu12==8.9.2.26 in /usr/local/lib/python3.10/dist-packages (from torch) (8.9.2.26)\n",
            "Requirement already satisfied: nvidia-cublas-cu12==12.1.3.1 in /usr/local/lib/python3.10/dist-packages (from torch) (12.1.3.1)\n",
            "Requirement already satisfied: nvidia-cufft-cu12==11.0.2.54 in /usr/local/lib/python3.10/dist-packages (from torch) (11.0.2.54)\n",
            "Requirement already satisfied: nvidia-curand-cu12==10.3.2.106 in /usr/local/lib/python3.10/dist-packages (from torch) (10.3.2.106)\n",
            "Requirement already satisfied: nvidia-cusolver-cu12==11.4.5.107 in /usr/local/lib/python3.10/dist-packages (from torch) (11.4.5.107)\n",
            "Requirement already satisfied: nvidia-cusparse-cu12==12.1.0.106 in /usr/local/lib/python3.10/dist-packages (from torch) (12.1.0.106)\n",
            "Requirement already satisfied: nvidia-nccl-cu12==2.19.3 in /usr/local/lib/python3.10/dist-packages (from torch) (2.19.3)\n",
            "Requirement already satisfied: nvidia-nvtx-cu12==12.1.105 in /usr/local/lib/python3.10/dist-packages (from torch) (12.1.105)\n",
            "Requirement already satisfied: triton==2.2.0 in /usr/local/lib/python3.10/dist-packages (from torch) (2.2.0)\n",
            "Requirement already satisfied: nvidia-nvjitlink-cu12 in /usr/local/lib/python3.10/dist-packages (from nvidia-cusolver-cu12==11.4.5.107->torch) (12.4.127)\n",
            "Requirement already satisfied: MarkupSafe>=2.0 in /usr/local/lib/python3.10/dist-packages (from jinja2->torch) (2.1.5)\n",
            "Requirement already satisfied: mpmath>=0.19 in /usr/local/lib/python3.10/dist-packages (from sympy->torch) (1.3.0)\n"
          ]
        }
      ]
    },
    {
      "cell_type": "code",
      "execution_count": null,
      "metadata": {
        "id": "NBJ5I-TsRJBG"
      },
      "outputs": [],
      "source": [
        "from transformers import AutoModel, AutoTokenizer\n",
        "import torch\n",
        "import numpy as np\n",
        "model = AutoModel.from_pretrained(\"BAAI/bge-small-en-v1.5\")\n",
        "tokenizer = AutoTokenizer.from_pretrained(\"BAAI/bge-small-en-v1.5\")\n"
      ]
    },
    {
      "cell_type": "code",
      "source": [
        "text =  \"healthcare chatbots in nlp\"\n",
        "def query_emd(query):\n",
        "  encoded_text = tokenizer(query, return_tensors=\"pt\")\n",
        "  with torch.no_grad():\n",
        "      model_output = model(**encoded_text)\n",
        "      embeddings = model_output.pooler_output\n",
        "  embeddings_array = embeddings.detach().numpy()\n",
        "  return embeddings_array\n",
        "\n",
        "query_embed = query_emd(text)\n",
        "print(query_embed.shape)\n",
        "# print(query_embed)\n",
        "#embeddings_array.shape"
      ],
      "metadata": {
        "colab": {
          "base_uri": "https://localhost:8080/"
        },
        "id": "J4JLdIQ_nszr",
        "outputId": "fed9e065-5417-4b90-f463-1aacce5c3db2"
      },
      "execution_count": null,
      "outputs": [
        {
          "output_type": "stream",
          "name": "stdout",
          "text": [
            "(1, 384)\n"
          ]
        }
      ]
    },
    {
      "cell_type": "code",
      "source": [
        "# to create the embeddings for each documents\n",
        "\n",
        "def document_embeddings(documents):\n",
        "    embedded_documents = []\n",
        "    for doc in documents:\n",
        "        encoded_text = tokenizer(doc, return_tensors=\"pt\")  # returns a tensor of 3-D and higher dimension\n",
        "        with torch.no_grad():\n",
        "            model_output = model(**encoded_text)\n",
        "            embeddings = model_output.pooler_output\n",
        "        embeddings_array = embeddings.detach().numpy()  #converting it into numoy array for processing\n",
        "        embedded_documents.append(embeddings_array)\n",
        "\n",
        "    # Concatenate the embeddings along the first axis (documents)\n",
        "    # document_embeddings = np.concatenate(embedded_documents, axis=0)\n",
        "    # document_embeddings = np.vstack(embedded_documents) # converting into 2-D for similarity\n",
        "    return embedded_documents\n"
      ],
      "metadata": {
        "id": "L5dX7g0TnyYK"
      },
      "execution_count": null,
      "outputs": []
    },
    {
      "cell_type": "code",
      "source": [
        "documents = [\n",
        "    \"Science Fiction: In the year 2150, humanity has colonized Mars. The Martian colonies thrive under the domes protecting them from the harsh environment outside. However, tensions rise between Earth and Mars as resources become scarce. A group of scientists discovers a way to terraform Mars, but it comes with a risk of irreversible consequences. As the fate of two worlds hangs in the balance, a young engineer must navigate political intrigue and personal sacrifice to save both planets from destruction.\",\n",
        "\n",
        "    \"Fantasy: In the kingdom of Eldoria, magic is a forbidden art. The tyrannical king has outlawed all forms of sorcery, fearing its power. But when a young orphan discovers she has the gift of magic, she becomes the key to overthrowing the king's reign of terror. With the help of a band of rebels and a wise old wizard, she embarks on a quest to reclaim the kingdom's lost magic and restore balance to the land.\",\n",
        "\n",
        "    \"Mystery: Detective John Smith is called to investigate a series of gruesome murders in the small town of Rivertown. As he delves deeper into the case, he uncovers a web of lies, deceit, and betrayal. With the clock ticking and the body count rising, Detective Smith must race against time to catch the killer before they strike again.\",\n",
        "\n",
        "    \"Romance: Emma and James have been best friends since childhood, but as they grow older, their relationship begins to evolve into something more. Caught between friendship and love, they must navigate the complexities of their feelings while facing challenges and obstacles along the way. Will they risk it all for a chance at true love?\",\n",
        "\n",
        "    \"Historical Fiction: Set during World War II, 'The Last Letter' follows the story of a young soldier deployed to the front lines. Through letters exchanged with his sweetheart back home, he shares his experiences, fears, and hopes for the future. As the war rages on, their love is put to the test, but their bond remains unbreakable.\",\n",
        "\n",
        "    \"Thriller: Sarah's life is turned upside down when she receives a mysterious package containing a cryptic message and a photograph of a crime scene. Desperate for answers, she embarks on a dangerous journey to uncover the truth behind the photograph. But as she gets closer to the truth, she realizes that someone is watching her every move, and they will stop at nothing to keep their secrets hidden.\",\n",
        "\n",
        "    \"Horror: A group of friends ventures into the abandoned asylum on the outskirts of town, seeking thrills and adventure. But they soon discover that they are not alone in the dark corridors of the asylum. Something sinister lurks in the shadows, stalking them one by one. As they struggle to escape, they realize that they may have unleashed an ancient evil that cannot be stopped.\",\n",
        "\n",
        "    \"Adventure: Captain Jack and his crew set sail on a daring quest to find the lost treasure of the legendary pirate Blackbeard. Battling treacherous seas, rival pirates, and mythical creatures, they must brave the dangers of the open ocean to claim the riches that lie buried beneath the waves.\",\n",
        "\n",
        "    \"Drama: In the bustling city of New York, four strangers' lives intersect in unexpected ways. From a struggling artist to a successful businessman, each character faces their own challenges and desires as they navigate the complexities of love, ambition, and betrayal in the urban jungle.\",\n",
        "\n",
        "    \"Comedy: When two rival comedians are forced to work together on a new comedy special, chaos ensues. With clashing egos and conflicting comedic styles, they must put aside their differences to deliver the performance of a lifetime. But as tensions rise and tempers flare, will they be able to set aside their differences and make audiences laugh?\",\n",
        "\n",
        "    \"Artificial intelligence is taking  over tha world in a fast pace. the natural language processing and machine learning play a vital role in the healtcare fields for creating personalized chatbots and models to detect the medical issue in the patients in order to provide a personalized healthcare support to thE patients thereby reducing the workload loads of the doctors.\"\n",
        "]\n"
      ],
      "metadata": {
        "id": "mXQrbyq_oGza"
      },
      "execution_count": null,
      "outputs": []
    },
    {
      "cell_type": "code",
      "source": [
        "doc_emd = document_embeddings(documents)\n",
        "ans = np.array(doc_emd)\n",
        "print(ans.shape)"
      ],
      "metadata": {
        "colab": {
          "base_uri": "https://localhost:8080/"
        },
        "id": "FMDWEsNYoMhD",
        "outputId": "54f76052-c496-40e7-916b-5a94aa9ac602"
      },
      "execution_count": null,
      "outputs": [
        {
          "output_type": "stream",
          "name": "stdout",
          "text": [
            "(11, 1, 384)\n"
          ]
        }
      ]
    },
    {
      "cell_type": "code",
      "source": [
        "# Define a function to generate unique IDs\n",
        "def generate_unique_id():\n",
        "    return str(uuid.uuid4())"
      ],
      "metadata": {
        "id": "UkJvkJRIo5zl"
      },
      "execution_count": null,
      "outputs": []
    },
    {
      "cell_type": "code",
      "source": [
        "# Insert each document along with its embedding into the collection\n",
        "docs = {}\n",
        "for i, doc in enumerate(documents):\n",
        "    document_id = generate_unique_id()  # Generate a unique ID for each document\n",
        "    embedding = document_embeddings(documents[i])\n",
        "    docs[document_id] = documents[i]\n",
        "\n",
        "    client.upsert(\n",
        "        collection_name = os.environ['QDRANT_COLLECTION'],\n",
        "        points = models.Batch\n",
        "         (\n",
        "            ids = [document_id],\n",
        "            vectors = embedding[0]\n",
        "          )\n",
        "    )"
      ],
      "metadata": {
        "id": "Ev68hVRtpAxp"
      },
      "execution_count": null,
      "outputs": []
    },
    {
      "cell_type": "code",
      "source": [
        "search = client.search(\n",
        "    collection_name=os.environ['QDRANT_COLLECTION'],\n",
        "    search_params=models.SearchParams(hnsw_ef=128, exact=False),\n",
        "    query_vector=query_embed[0],\n",
        "    limit=3\n",
        ")\n",
        "print(search)\n"
      ],
      "metadata": {
        "colab": {
          "base_uri": "https://localhost:8080/"
        },
        "id": "mELichLB5Otk",
        "outputId": "5ca20941-50b1-4e47-8061-872a4d5d5376"
      },
      "execution_count": null,
      "outputs": [
        {
          "output_type": "stream",
          "name": "stdout",
          "text": [
            "[ScoredPoint(id='7cf71a90-b704-4f8a-b684-3bcb65be8f55', version=10, score=0.57098305, payload={}, vector=None, shard_key=None), ScoredPoint(id='509a4677-e5cb-405d-8ed0-cb458fb2a4cf', version=7, score=0.57098305, payload={}, vector=None, shard_key=None), ScoredPoint(id='efe523e4-c5be-40b3-b822-2083cb742838', version=3, score=0.55894995, payload={}, vector=None, shard_key=None)]\n"
          ]
        }
      ]
    },
    {
      "cell_type": "code",
      "source": [
        "document_ids = [result.id for result in search]\n",
        "\n",
        "# Printing the IDs\n",
        "for doc_id in document_ids:\n",
        "    print(\"Document ID:\", doc_id)"
      ],
      "metadata": {
        "colab": {
          "base_uri": "https://localhost:8080/"
        },
        "id": "XgSP6b9674uA",
        "outputId": "950b3da3-8a01-473e-dd06-c35d19291dd8"
      },
      "execution_count": null,
      "outputs": [
        {
          "output_type": "stream",
          "name": "stdout",
          "text": [
            "Document ID: 7cf71a90-b704-4f8a-b684-3bcb65be8f55\n",
            "Document ID: 509a4677-e5cb-405d-8ed0-cb458fb2a4cf\n",
            "Document ID: efe523e4-c5be-40b3-b822-2083cb742838\n"
          ]
        }
      ]
    },
    {
      "cell_type": "code",
      "source": [
        "print(\"The similar sentences with highest scores is\")\n",
        "for i in range(len(document_ids)):\n",
        "  print(f\"The document in the place {i+1} is:  \")\n",
        "  print(docs[document_ids[i]])"
      ],
      "metadata": {
        "colab": {
          "base_uri": "https://localhost:8080/"
        },
        "id": "xsHyl8AE77di",
        "outputId": "75bdbb05-feaf-4f99-c7c7-39f165ecbbe1"
      },
      "execution_count": null,
      "outputs": [
        {
          "output_type": "stream",
          "name": "stdout",
          "text": [
            "The similar sentences with highest scores is\n",
            "The document in the place 1 is:  \n",
            "Artificial intelligence is taking  over tha world in a fast pace. the natural language processing and machine learning play a vital role in the healtcare fields for creating personalized chatbots and models to detect the medical issue in the patients in order to provide a personalized healthcare support to thE patients thereby reducing the workload loads of the doctors.\n",
            "The document in the place 2 is:  \n",
            "Adventure: Captain Jack and his crew set sail on a daring quest to find the lost treasure of the legendary pirate Blackbeard. Battling treacherous seas, rival pirates, and mythical creatures, they must brave the dangers of the open ocean to claim the riches that lie buried beneath the waves.\n",
            "The document in the place 3 is:  \n",
            "Romance: Emma and James have been best friends since childhood, but as they grow older, their relationship begins to evolve into something more. Caught between friendship and love, they must navigate the complexities of their feelings while facing challenges and obstacles along the way. Will they risk it all for a chance at true love?\n"
          ]
        }
      ]
    }
  ]
}